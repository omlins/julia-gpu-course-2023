{
 "cells": [
  {
   "cell_type": "markdown",
   "metadata": {
    "name": "A slide ",
    "slideshow": {
     "slide_type": "slide"
    }
   },
   "source": [
    "_GPU Programming with Julia_\n",
    "# Introduction notebook: GPU computing and performance assessment"
   ]
  },
  {
   "cell_type": "markdown",
   "metadata": {
    "name": "A slide ",
    "slideshow": {
     "slide_type": "slide"
    }
   },
   "source": [
    "### The goal of this introduction notebook is to tackle:\n",
    "\n",
    "- GPU architecture and kernel programming basics; and\n",
    "- GPU computing and performance assessment.\n",
    "\n",
    "### Let us instantiate the required environment"
   ]
  },
  {
   "cell_type": "code",
   "execution_count": 1,
   "metadata": {},
   "outputs": [],
   "source": [
    "] activate ."
   ]
  },
  {
   "cell_type": "code",
   "execution_count": 2,
   "metadata": {},
   "outputs": [],
   "source": [
    "] instantiate"
   ]
  },
  {
   "cell_type": "markdown",
   "metadata": {
    "name": "A slide ",
    "slideshow": {
     "slide_type": "slide"
    }
   },
   "source": [
    "## GPU architecture and kernel programming basics"
   ]
  },
  {
   "cell_type": "markdown",
   "metadata": {
    "name": "A slide ",
    "slideshow": {
     "slide_type": "fragment"
    }
   },
   "source": [
    "We will get started with a brief overview of the Nvidia GPU architecture and how to program it."
   ]
  },
  {
   "cell_type": "markdown",
   "metadata": {
    "name": "A slide ",
    "slideshow": {
     "slide_type": "slide"
    }
   },
   "source": [
    "The Nvidia general purpose GPUs we will use in this course can be programmed using the [CUDA language extension](https://docs.nvidia.com/cuda/cuda-c-programming-guide/index.html).\n",
    "\n",
    "CUDA is accessible in Julia via [CUDA.jl](https://cuda.juliagpu.org/stable/), which exposes most of the native CUDA features to the Julia ecosystem.\n",
    "\n",
    "Note, however, that CUDA.jl does not use `nvcc`, the Nvidia compiler, but compiles like other Julia code just ahead of time with [LLVM](https://llvm.org)."
   ]
  },
  {
   "cell_type": "markdown",
   "metadata": {
    "name": "A slide ",
    "slideshow": {
     "slide_type": "slide"
    }
   },
   "source": [
    "First, let's distinguish among CPU, GPU, hardware, application and CUDA.\n",
    "\n",
    "What are _**host**_ and _**device**_?\n",
    "\n",
    "The _**host**_ is the system CPU. The system memory (DRAM) linked to the CPU is the host memory. The GPU is called a _**device**_ and GPU memory is device memory."
   ]
  },
  {
   "cell_type": "markdown",
   "metadata": {
    "name": "A slide ",
    "slideshow": {
     "slide_type": "fragment"
    }
   },
   "source": [
    "The GPU hardware is composed of Global (DRAM) memory, L2 cache and many streaming multi-processors (SMs). Each SM contains many compute units (called \"CUDA cores\" by Nvidia), registers, L1 cache (can be repurposed as shared memory depending on the architecture) and read-only memory.\n",
    "\n",
    "> The CUDA programming model provides an abstraction of GPU architecture that acts as a bridge between an application and its possible implementation on GPU hardware. [*[ref]*](https://developer.nvidia.com/blog/cuda-refresher-cuda-programming-model/)"
   ]
  },
  {
   "cell_type": "markdown",
   "metadata": {
    "name": "A slide ",
    "slideshow": {
     "slide_type": "slide"
    }
   },
   "source": [
    "In the CUDA programming model, `blocks` of `threads` compose the `grid`. In (most of) the following implementations, we want to map one thread to each cell of the 2D Cartesian domain.\n",
    "\n",
    "The figure hereafter depicts the relation between the CUDA domain and the 2D Cartesian domain (here referred to as finite-difference domain):"
   ]
  },
  {
   "cell_type": "markdown",
   "metadata": {
    "name": "A slide ",
    "slideshow": {
     "slide_type": "slide"
    }
   },
   "source": [
    "![cuda_grid](./figures/cuda_grid.png)"
   ]
  },
  {
   "cell_type": "markdown",
   "metadata": {
    "name": "A slide ",
    "slideshow": {
     "slide_type": "slide"
    }
   },
   "source": [
    "Indices `ix` and `iy` replace loop indices over the dimensions x and y, providing a normally \"vectorised map\" of threads to array cells - the core to leverage GPU performance. We will come back to this in a second part of this lecture.\n",
    "\n",
    "In the CUDA programming model, `blocks` (red) of `threads` compose the `grid` (green).\n",
    "\n",
    "In most of our implementations, we will map one thread (red box) to each cell of the 2D Cartesian domain (blue). Other mappings are possible, of course, as we will see later."
   ]
  },
  {
   "cell_type": "markdown",
   "metadata": {
    "name": "A slide ",
    "slideshow": {
     "slide_type": "fragment"
    }
   },
   "source": [
    "*How does it relate to the GPU hardware?*"
   ]
  },
  {
   "cell_type": "markdown",
   "metadata": {
    "name": "A slide ",
    "slideshow": {
     "slide_type": "slide"
    }
   },
   "source": [
    "All threads of a block are guaranteed to be executed concurrently on an SM (yellow box) and therefore share SM resources such as registers, L1 cache (/shared memory) and read-only memory.\n",
    "\n",
    "We will see later that the performance of a GPU application is highly sensitive to the optimal choice of the thread, block and grid layout, the so-called kernel launch parameters."
   ]
  },
  {
   "cell_type": "markdown",
   "metadata": {
    "name": "A slide ",
    "slideshow": {
     "slide_type": "slide"
    }
   },
   "source": [
    "Writing a Julia GPU function (aka kernel) copying array `A` to array `B` with the layout from the above figure can look as follow"
   ]
  },
  {
   "cell_type": "code",
   "execution_count": 3,
   "metadata": {},
   "outputs": [],
   "source": [
    "using CUDA\n",
    "\n",
    "function copy!(A, B)\n",
    "    ix = (blockIdx().x-1) * blockDim().x + threadIdx().x\n",
    "    iy = (blockIdx().y-1) * blockDim().y + threadIdx().y\n",
    "    @inbounds A[ix,iy] = B[ix,iy]\n",
    "    return\n",
    "end\n",
    "\n",
    "threads = (4, 3)\n",
    "blocks  = (2, 2)\n",
    "nx, ny  = threads[1]*blocks[1], threads[2]*blocks[2]\n",
    "A       = CUDA.zeros(Float64, nx, ny)\n",
    "B       =  CUDA.rand(Float64, nx, ny)\n",
    "\n",
    "@cuda blocks=blocks threads=threads copy!(A, B)\n",
    "synchronize()"
   ]
  },
  {
   "cell_type": "markdown",
   "metadata": {
    "name": "A slide ",
    "slideshow": {
     "slide_type": "slide"
    }
   },
   "source": [
    "_**Playing with GPUs: the rules**_\n",
    "- Current GPUs allow typically a maximum of 1024 threads per block.\n",
    "- The maximum number of blocks allowed is huge; computing the largest possible array on the GPU will make you run out of device memory (currently 16-96 GB) before hitting the maximal number of blocks when selecting sensible kernel launch parameters (usually threads per block >= 128).\n",
    "- Threads, blocks and grid have 3D \"Cartesian\" topology, which is very useful for 1D, 2D and 3D Cartesian finite-difference domains."
   ]
  },
  {
   "cell_type": "markdown",
   "metadata": {
    "name": "A slide ",
    "slideshow": {
     "slide_type": "slide"
    }
   },
   "source": [
    "With this short overview we should have the important concepts in mind to get started with GPU computing. 🚀"
   ]
  },
  {
   "cell_type": "markdown",
   "metadata": {},
   "source": [
    "> 💡 note: A more complete introduction to CUDA (or refresher) can be accessed [here](https://developer.nvidia.com/blog/tag/cuda-refresher/). Julia GPU resources can be accessed at [https://juliagpu.org](https://juliagpu.org)."
   ]
  },
  {
   "cell_type": "markdown",
   "metadata": {
    "name": "A slide ",
    "slideshow": {
     "slide_type": "slide"
    }
   },
   "source": [
    "## GPU computing and performance assessment"
   ]
  },
  {
   "cell_type": "markdown",
   "metadata": {
    "name": "A slide ",
    "slideshow": {
     "slide_type": "slide"
    }
   },
   "source": [
    "### The goal of this introduction is to:\n",
    "- learn the basics of benchmarking;\n",
    "- learn to compute achieved memory throughput;\n",
    "- learn about the fundamental parameters determining memory throughput;\n",
    "- establish the peak memory throughput of your GPU; and\n",
    "- learn about GPU array and kernel programming on the way."
   ]
  },
  {
   "cell_type": "markdown",
   "metadata": {
    "name": "A slide ",
    "slideshow": {
     "slide_type": "fragment"
    }
   },
   "source": [
    "[*This content is distributed under MIT licence. Authors: S. Omlin (CSCS), L. Räss (ETHZ).*](https://github.com/eth-vaw-glaciology/course-101-0250-00/blob/main/LICENSE.md)"
   ]
  },
  {
   "cell_type": "markdown",
   "metadata": {
    "name": "A slide ",
    "slideshow": {
     "slide_type": "fragment"
    }
   },
   "source": [
    "> 💡 note: Values reported in this notebook are for the Nvidia P100 16GB PCIe GPU. If you are using a different GPU architecture, the results are likely not always proportional. Moreover, it may show that one cannot expect a fine tuned strategy to work always 100% well on future (or past) architectures."
   ]
  },
  {
   "cell_type": "markdown",
   "metadata": {
    "name": "A slide ",
    "slideshow": {
     "slide_type": "slide"
    }
   },
   "source": [
    "We will use the packages `CUDA` and `BenchmarkTools` to create a little performance laboratory:"
   ]
  },
  {
   "cell_type": "code",
   "execution_count": 4,
   "metadata": {},
   "outputs": [],
   "source": [
    "using CUDA\n",
    "using BenchmarkTools"
   ]
  },
  {
   "cell_type": "markdown",
   "metadata": {
    "name": "A slide ",
    "slideshow": {
     "slide_type": "slide"
    }
   },
   "source": [
    "### Scientific applications' performance"
   ]
  },
  {
   "cell_type": "markdown",
   "metadata": {
    "name": "A slide ",
    "slideshow": {
     "slide_type": "fragment"
    }
   },
   "source": [
    "The performance of most scientific applications nowadays is bound by memory access speed (*memory-bound*) rather than by the speed computations can be done (*compute-bound*).\n",
    "\n",
    "The reason is that current GPUs (and CPUs) can do many more computations in a given amount of time than they can access numbers from main memory."
   ]
  },
  {
   "cell_type": "markdown",
   "metadata": {
    "name": "A slide ",
    "slideshow": {
     "slide_type": "slide"
    }
   },
   "source": [
    "This imbalance can be quantified by dividing the computation peak performance [GFLOP/s] by the memory access peak performance [GB/s] and multiplied by the size of a number in Bytes (for simplicity, theoretical peak performance values as specified by the vendors can be used). For example for the Tesla P100 GPU, it is:\n",
    "\n",
    "$$ \\frac{5300 ~\\mathrm{[GFlop/s]}}{732 ~\\mathrm{[GB/s]}}~×~8 = 58 $$\n",
    "\n",
    "(here computed with double precision values taken from [the vendor's product specification sheet](https://www.nvidia.com/content/dam/en-zz/Solutions/Data-Center/tesla-p100/pdf/nvidia-tesla-p100-PCIe-datasheet.pdf))."
   ]
  },
  {
   "cell_type": "markdown",
   "metadata": {
    "name": "A slide ",
    "slideshow": {
     "slide_type": "slide"
    }
   },
   "source": [
    "So we can do 58 floating point operations per number read from main memory or written to it.\n",
    "\n",
    "As a consequence, we can consider **floating point operations be \"for free\"** when we work in the memory-bounded regime as in this lecture."
   ]
  },
  {
   "cell_type": "markdown",
   "metadata": {
    "name": "A slide ",
    "slideshow": {
     "slide_type": "slide"
    }
   },
   "source": [
    "Therefore, let us start with investigating the performance of different ways to express and launch GPU memory copies. We will wrap all of these memory copies in functions, to enable the Julia compiler to optimize them best."
   ]
  },
  {
   "cell_type": "markdown",
   "metadata": {
    "name": "A slide ",
    "slideshow": {
     "slide_type": "fragment"
    }
   },
   "source": [
    "There exists already the function `copyto!`, which permits to copy data from one pre-allocated array to another; thus, we start with analysing this function's performance."
   ]
  },
  {
   "cell_type": "markdown",
   "metadata": {
    "name": "A slide ",
    "slideshow": {
     "slide_type": "slide"
    }
   },
   "source": [
    "To this purpose, we allocate two arrays and benchmark the function using `BenchmarkTools`:"
   ]
  },
  {
   "cell_type": "code",
   "execution_count": 5,
   "metadata": {},
   "outputs": [
    {
     "data": {
      "text/plain": [
       "BenchmarkTools.Trial: 10000 samples with 5 evaluations.\n",
       " Range \u001b[90m(\u001b[39m\u001b[36m\u001b[1mmin\u001b[22m\u001b[39m … \u001b[35mmax\u001b[39m\u001b[90m):  \u001b[39m\u001b[36m\u001b[1m6.656 μs\u001b[22m\u001b[39m … \u001b[35m 14.505 μs\u001b[39m  \u001b[90m┊\u001b[39m GC \u001b[90m(\u001b[39mmin … max\u001b[90m): \u001b[39m0.00% … 0.00%\n",
       " Time  \u001b[90m(\u001b[39m\u001b[34m\u001b[1mmedian\u001b[22m\u001b[39m\u001b[90m):     \u001b[39m\u001b[34m\u001b[1m6.777 μs               \u001b[22m\u001b[39m\u001b[90m┊\u001b[39m GC \u001b[90m(\u001b[39mmedian\u001b[90m):    \u001b[39m0.00%\n",
       " Time  \u001b[90m(\u001b[39m\u001b[32m\u001b[1mmean\u001b[22m\u001b[39m ± \u001b[32mσ\u001b[39m\u001b[90m):   \u001b[39m\u001b[32m\u001b[1m6.819 μs\u001b[22m\u001b[39m ± \u001b[32m218.060 ns\u001b[39m  \u001b[90m┊\u001b[39m GC \u001b[90m(\u001b[39mmean ± σ\u001b[90m):  \u001b[39m0.00% ± 0.00%\n",
       "\n",
       "  \u001b[39m \u001b[39m \u001b[39m \u001b[39m \u001b[39m \u001b[39m \u001b[39m \u001b[39m▁\u001b[39m▄\u001b[39m█\u001b[39m▆\u001b[39m▄\u001b[39m▂\u001b[34m▁\u001b[39m\u001b[39m▁\u001b[39m \u001b[39m \u001b[32m \u001b[39m\u001b[39m \u001b[39m \u001b[39m \u001b[39m \u001b[39m \u001b[39m \u001b[39m \u001b[39m \u001b[39m \u001b[39m \u001b[39m \u001b[39m \u001b[39m \u001b[39m \u001b[39m \u001b[39m \u001b[39m \u001b[39m \u001b[39m \u001b[39m \u001b[39m \u001b[39m \u001b[39m \u001b[39m \u001b[39m \u001b[39m \u001b[39m \u001b[39m \u001b[39m \u001b[39m \u001b[39m \u001b[39m \u001b[39m \u001b[39m \u001b[39m \u001b[39m \u001b[39m \u001b[39m \u001b[39m \u001b[39m \u001b[39m \u001b[39m \u001b[39m \n",
       "  \u001b[39m▁\u001b[39m▁\u001b[39m▁\u001b[39m▁\u001b[39m▁\u001b[39m▂\u001b[39m▅\u001b[39m█\u001b[39m█\u001b[39m█\u001b[39m█\u001b[39m█\u001b[39m█\u001b[34m█\u001b[39m\u001b[39m█\u001b[39m█\u001b[39m▇\u001b[32m▆\u001b[39m\u001b[39m▅\u001b[39m▄\u001b[39m▃\u001b[39m▃\u001b[39m▃\u001b[39m▂\u001b[39m▂\u001b[39m▂\u001b[39m▂\u001b[39m▂\u001b[39m▂\u001b[39m▂\u001b[39m▂\u001b[39m▂\u001b[39m▂\u001b[39m▂\u001b[39m▂\u001b[39m▂\u001b[39m▁\u001b[39m▁\u001b[39m▁\u001b[39m▁\u001b[39m▁\u001b[39m▁\u001b[39m▁\u001b[39m▁\u001b[39m▁\u001b[39m▁\u001b[39m▁\u001b[39m▁\u001b[39m▁\u001b[39m▁\u001b[39m▁\u001b[39m▁\u001b[39m▁\u001b[39m▁\u001b[39m▁\u001b[39m▁\u001b[39m▁\u001b[39m▁\u001b[39m▁\u001b[39m \u001b[39m▂\n",
       "  6.66 μs\u001b[90m         Histogram: frequency by time\u001b[39m        7.22 μs \u001b[0m\u001b[1m<\u001b[22m\n",
       "\n",
       " Memory estimate\u001b[90m: \u001b[39m\u001b[33m0 bytes\u001b[39m, allocs estimate\u001b[90m: \u001b[39m\u001b[33m0\u001b[39m."
      ]
     },
     "execution_count": 5,
     "metadata": {},
     "output_type": "execute_result"
    }
   ],
   "source": [
    "nx = ny = 32\n",
    "A = CUDA.zeros(Float64, nx, ny);\n",
    "B = CUDA.rand(Float64, nx, ny);\n",
    "@benchmark begin copyto!($A, $B); synchronize() end"
   ]
  },
  {
   "cell_type": "markdown",
   "metadata": {
    "name": "A slide ",
    "slideshow": {
     "slide_type": "fragment"
    }
   },
   "source": [
    "> 💡 note: Previously defined variables are interpolated with `$` into the benchmarked expression."
   ]
  },
  {
   "cell_type": "markdown",
   "metadata": {
    "name": "A slide ",
    "slideshow": {
     "slide_type": "fragment"
    }
   },
   "source": [
    "> 💡 note: If not specified otherwise, `CUDA.zeros(nx, ny)` allocates `Float32`."
   ]
  },
  {
   "cell_type": "markdown",
   "metadata": {
    "name": "A slide ",
    "slideshow": {
     "slide_type": "slide"
    }
   },
   "source": [
    "Time samples resulting from benchmarking as just performed follow normally a right skewed distribution.\n",
    "\n",
    "For such distribution, the median is the most robust of the commonly used estimators of the central tendency; the minimum is in general also a good estimator as hardware cannot by accident run faster than with the ideal and it is as a result commonly used for reporting performance (for more information on estimators see [here](https://juliaci.github.io/BenchmarkTools.jl/stable/manual/#Which-estimator-should-I-use?))."
   ]
  },
  {
   "cell_type": "markdown",
   "metadata": {
    "name": "A slide ",
    "slideshow": {
     "slide_type": "slide"
    }
   },
   "source": [
    "Using `@belapsed` instead of `@benchmark`, we directly obtain the minimum of the taken time samples:"
   ]
  },
  {
   "cell_type": "code",
   "execution_count": 6,
   "metadata": {},
   "outputs": [
    {
     "data": {
      "text/plain": [
       "6.6454e-6"
      ]
     },
     "execution_count": 6,
     "metadata": {},
     "output_type": "execute_result"
    }
   ],
   "source": [
    "t_it = @belapsed begin copyto!($A, $B); synchronize() end"
   ]
  },
  {
   "cell_type": "markdown",
   "metadata": {
    "name": "A slide ",
    "slideshow": {
     "slide_type": "fragment"
    }
   },
   "source": [
    "Now, we know that it does not take \"an awful lot of time\". Of course, we do not want to stop here, but figure out how good the achieved performance was."
   ]
  },
  {
   "cell_type": "markdown",
   "metadata": {
    "name": "A slide ",
    "slideshow": {
     "slide_type": "slide"
    }
   },
   "source": [
    "To this aim, we compute the *total memory throughput*, `T_tot` [GB/s], which is defined as the volume of the copied data [GB] divided by the time spent [s]:"
   ]
  },
  {
   "cell_type": "code",
   "execution_count": 7,
   "metadata": {},
   "outputs": [
    {
     "data": {
      "text/plain": [
       "2.4654648328166853"
      ]
     },
     "execution_count": 7,
     "metadata": {},
     "output_type": "execute_result"
    }
   ],
   "source": [
    "T_tot = 2*1/1e9*nx*ny*sizeof(Float64)/t_it"
   ]
  },
  {
   "cell_type": "markdown",
   "metadata": {
    "name": "A slide ",
    "slideshow": {
     "slide_type": "fragment"
    }
   },
   "source": [
    "> 💡 note: The factor `2` comes from the fact that the data is read and written (`2` operations)."
   ]
  },
  {
   "cell_type": "markdown",
   "metadata": {
    "name": "A slide ",
    "slideshow": {
     "slide_type": "slide"
    }
   },
   "source": [
    "Compare now `T_tot` with the known peak memory throughput, `T_peak`, which is found e.g. in scientific or vendor publications (for the Nvidia Tesla P100 GPUs, it is 559 GB/s, according to [this source](https://doi.org/10.1109/P3HPC51967.2020.00006))."
   ]
  },
  {
   "cell_type": "markdown",
   "metadata": {
    "name": "A slide ",
    "slideshow": {
     "slide_type": "fragment"
    }
   },
   "source": [
    "> 💡 note: Achievable peak memory throughput is usually significantly lower than the *theoretical peak bandwidth* announced by the vendor (for the [Tesla P100 GPUs](https://www.nvidia.com/content/dam/en-zz/Solutions/Data-Center/tesla-p100/pdf/nvidia-tesla-p100-PCIe-datasheet.pdf), the latter is 732 GB/s as noted already earlier)."
   ]
  },
  {
   "cell_type": "markdown",
   "metadata": {
    "name": "A slide ",
    "slideshow": {
     "slide_type": "slide"
    }
   },
   "source": [
    "> 💡 note: Here 1 GB is 1e9 Bytes as in the publication, where the peak memory throughput of the Tesla P100 GPU was obtained from."
   ]
  },
  {
   "cell_type": "markdown",
   "metadata": {
    "name": "A slide ",
    "slideshow": {
     "slide_type": "slide"
    }
   },
   "source": [
    "You have surely found `T_tot` to be orders of magnitude below `T_peak`. This is to be expected when copying a small array."
   ]
  },
  {
   "cell_type": "markdown",
   "metadata": {
    "name": "A slide ",
    "slideshow": {
     "slide_type": "slide"
    }
   },
   "source": [
    "Let us determine how `T_tot` behaves with increasing array sizes:"
   ]
  },
  {
   "cell_type": "code",
   "execution_count": null,
   "metadata": {},
   "outputs": [
    {
     "name": "stdout",
     "output_type": "stream",
     "text": [
      "(nx=ny=32) T_tot = 2.4645747465326875\n",
      "(nx=ny=64) T_tot = 9.86987951807229\n",
      "(nx=ny=128) T_tot = 38.21898235894446\n",
      "(nx=ny=256) T_tot = 142.25212820078008\n",
      "(nx=ny=512) T_tot = 358.8555783709788\n",
      "(nx=ny=1024) T_tot = 427.02069281478276\n",
      "(nx=ny=2048) T_tot = 491.5068003544827\n",
      "(nx=ny=4096) T_tot = 513.1470954816905\n",
      "(nx=ny=8192) T_tot = 517.224900010453\n",
      "(nx=ny=16384) T_tot = 517.7985156490272\n"
     ]
    }
   ],
   "source": [
    "array_sizes = []\n",
    "throughputs = []\n",
    "for pow = 0:11\n",
    "    nx = ny = 32*2^pow\n",
    "    required_memory = 3*nx*ny*sizeof(Float64)\n",
    "    if required_memory > CUDA.available_memory()\n",
    "        nx = ny = 32*2^(pow-1) + 32*2^(pow-2)\n",
    "        required_memory = 3*nx*ny*sizeof(Float64)\n",
    "        if (required_memory > CUDA.available_memory()) break; end\n",
    "    end\n",
    "    A = CUDA.zeros(Float64, nx, ny);\n",
    "    B = CUDA.rand(Float64, nx, ny);\n",
    "    t_it = @belapsed begin copyto!($A, $B); synchronize() end\n",
    "    T_tot = 2*1/1e9*nx*ny*sizeof(Float64)/t_it\n",
    "    push!(array_sizes, nx)\n",
    "    push!(throughputs, T_tot)\n",
    "    println(\"(nx=ny=$nx: $(round(required_memory/1e9, sigdigits=3)) GB) T_tot = $(round(T_tot, digits=1))\")\n",
    "    CUDA.unsafe_free!(A)\n",
    "    CUDA.unsafe_free!(B)\n",
    "end"
   ]
  },
  {
   "cell_type": "markdown",
   "metadata": {
    "name": "A slide ",
    "slideshow": {
     "slide_type": "slide"
    }
   },
   "source": [
    "You can observe that the best performance is on pair with `T_peak` or a bit lower (measured 522 GB/s with the Tesla P100 GPU).\n",
    "\n",
    "Furthermore, we note that best performance is obtained for large arrays (in the order of Gigabytes)."
   ]
  },
  {
   "cell_type": "markdown",
   "metadata": {
    "name": "A slide ",
    "slideshow": {
     "slide_type": "slide"
    }
   },
   "source": [
    "We will use the array size for which we obtained the best result for the remainder of the performance experiments:"
   ]
  },
  {
   "cell_type": "code",
   "execution_count": 9,
   "metadata": {},
   "outputs": [],
   "source": [
    "T_tot_max, index = findmax(throughputs)\n",
    "nx = ny = array_sizes[index]\n",
    "A = CUDA.zeros(Float64, nx, ny);\n",
    "B = CUDA.rand(Float64, nx, ny);"
   ]
  },
  {
   "cell_type": "markdown",
   "metadata": {
    "name": "A slide ",
    "slideshow": {
     "slide_type": "slide"
    }
   },
   "source": [
    "### GPU array programming"
   ]
  },
  {
   "cell_type": "markdown",
   "metadata": {
    "name": "A slide ",
    "slideshow": {
     "slide_type": "fragment"
    }
   },
   "source": [
    "Let us now create our own memory copy function using GPU *Array Programming* (AP)."
   ]
  },
  {
   "cell_type": "markdown",
   "metadata": {
    "name": "A slide ",
    "slideshow": {
     "slide_type": "slide"
    }
   },
   "source": [
    "We can write a memory copy simply as `A .= B`; and wrap it in a function using Julia's concise notation, it looks as follows:"
   ]
  },
  {
   "cell_type": "code",
   "execution_count": 10,
   "metadata": {},
   "outputs": [
    {
     "data": {
      "text/plain": [
       "memcopy_AP! (generic function with 1 method)"
      ]
     },
     "execution_count": 10,
     "metadata": {},
     "output_type": "execute_result"
    }
   ],
   "source": [
    "memcopy_AP!(A, B) = (A .= B)"
   ]
  },
  {
   "cell_type": "markdown",
   "metadata": {
    "name": "A slide ",
    "slideshow": {
     "slide_type": "fragment"
    }
   },
   "source": [
    "> 💡 note: `A = B` would not do a memcopy, but make `A` an alias of `B`, i.e. make `A` point to the same data in memory as `B`."
   ]
  },
  {
   "cell_type": "markdown",
   "metadata": {
    "name": "A slide ",
    "slideshow": {
     "slide_type": "slide"
    }
   },
   "source": [
    "We also benchmark it and compute `T_tot`:"
   ]
  },
  {
   "cell_type": "code",
   "execution_count": 11,
   "metadata": {},
   "outputs": [
    {
     "data": {
      "text/plain": [
       "493.64710939544614"
      ]
     },
     "execution_count": 11,
     "metadata": {},
     "output_type": "execute_result"
    }
   ],
   "source": [
    "t_it = @belapsed begin memcopy_AP!($A, $B); synchronize() end\n",
    "T_tot = 2*1/1e9*nx*ny*sizeof(Float64)/t_it"
   ]
  },
  {
   "cell_type": "markdown",
   "metadata": {},
   "source": [
    "The performance you observe might be a little lower than with the `copyto!` function (measured 496 GB/s with the Tesla P100 GPU)."
   ]
  },
  {
   "cell_type": "markdown",
   "metadata": {
    "name": "A slide ",
    "slideshow": {
     "slide_type": "fragment"
    }
   },
   "source": [
    "The few experiments that we have done together so far have shown you already that performing memory copy with maximal possible performance (`T_peak`) is not a completely trivial Task."
   ]
  },
  {
   "cell_type": "markdown",
   "metadata": {
    "name": "A slide ",
    "slideshow": {
     "slide_type": "slide"
    }
   },
   "source": [
    "### GPU kernel programming"
   ]
  },
  {
   "cell_type": "markdown",
   "metadata": {
    "name": "A slide ",
    "slideshow": {
     "slide_type": "fragment"
    }
   },
   "source": [
    "We will now use GPU *Kernel Programming* (KP) to try to get closer to `T_peak`."
   ]
  },
  {
   "cell_type": "markdown",
   "metadata": {
    "name": "A slide ",
    "slideshow": {
     "slide_type": "slide"
    }
   },
   "source": [
    "A memory copy kernel can be written e.g. as follows:"
   ]
  },
  {
   "cell_type": "code",
   "execution_count": 12,
   "metadata": {},
   "outputs": [
    {
     "data": {
      "text/plain": [
       "memcopy_KP! (generic function with 1 method)"
      ]
     },
     "execution_count": 12,
     "metadata": {},
     "output_type": "execute_result"
    }
   ],
   "source": [
    "function memcopy_KP!(A, B)\n",
    "    ix = (blockIdx().x-1) * blockDim().x + threadIdx().x\n",
    "    iy = (blockIdx().y-1) * blockDim().y + threadIdx().y\n",
    "    @inbounds A[ix,iy] = B[ix,iy]\n",
    "    return nothing\n",
    "end"
   ]
  },
  {
   "cell_type": "markdown",
   "metadata": {},
   "source": [
    "> 💡 note: We use `@inbounds` macro to make sure no array bounds checking is performed, which could slow down significantly. Information on the propagation of `@inbounds` can be found [here](https://docs.julialang.org/en/v1/devdocs/boundscheck/). Note, furthermore, that outside of these exercises it can be more convenient not to use the `@inbounds` macro, but to deactivate bounds checking instead globally for high performance runs by calling julia as follows : `julia --check-bounds=no ...`"
   ]
  },
  {
   "cell_type": "markdown",
   "metadata": {
    "name": "A slide ",
    "slideshow": {
     "slide_type": "slide"
    }
   },
   "source": [
    "Then, in order to copy the (entire) array `B` to `A`, we need to launch the kernel such that the above indices `ix` and `iy` map exactly to each array cell.\n",
    "\n",
    "Therefore, we need to have `blocks[1]*threads[1] == nx` and `blocks[2]*threads[2] == ny`."
   ]
  },
  {
   "cell_type": "markdown",
   "metadata": {
    "name": "A slide ",
    "slideshow": {
     "slide_type": "slide"
    }
   },
   "source": [
    "We will try first with the simplest possible option using only one thread per block:"
   ]
  },
  {
   "cell_type": "code",
   "execution_count": 13,
   "metadata": {},
   "outputs": [
    {
     "data": {
      "text/plain": [
       "9.517377672894716"
      ]
     },
     "execution_count": 13,
     "metadata": {},
     "output_type": "execute_result"
    }
   ],
   "source": [
    "threads = (1, 1)\n",
    "blocks  = (nx, ny)\n",
    "t_it = @belapsed begin @cuda blocks=$blocks threads=$threads memcopy_KP!($A, $B); synchronize() end\n",
    "T_tot = 2*1/1e9*nx*ny*sizeof(Float64)/t_it"
   ]
  },
  {
   "cell_type": "markdown",
   "metadata": {
    "name": "A slide ",
    "slideshow": {
     "slide_type": "slide"
    }
   },
   "source": [
    "`T_tot` is certainly orders of magnitude below `T_peak` with this kernel launch parameters.\n",
    "\n",
    "We need to take into account that single threads cannot run completely independently, but threads are launched in small groups within a block, called *warps*; a warp consists of 32 threads on current GPUs.\n",
    "\n",
    "Furthermore, warps should access contiguous memory for best performance."
   ]
  },
  {
   "cell_type": "markdown",
   "metadata": {
    "name": "A slide ",
    "slideshow": {
     "slide_type": "slide"
    }
   },
   "source": [
    "We therefore retry using 32 threads (one warp) per block as follows:"
   ]
  },
  {
   "cell_type": "code",
   "execution_count": 14,
   "metadata": {},
   "outputs": [
    {
     "data": {
      "text/plain": [
       "302.48909189266016"
      ]
     },
     "execution_count": 14,
     "metadata": {},
     "output_type": "execute_result"
    }
   ],
   "source": [
    "threads = (32, 1)\n",
    "blocks  = (nx÷threads[1], ny)\n",
    "t_it = @belapsed begin @cuda blocks=$blocks threads=$threads memcopy_KP!($A, $B); synchronize() end\n",
    "T_tot = 2*1/1e9*nx*ny*sizeof(Float64)/t_it"
   ]
  },
  {
   "cell_type": "markdown",
   "metadata": {
    "name": "A slide ",
    "slideshow": {
     "slide_type": "fragment"
    }
   },
   "source": [
    "> 💡 note: For simplicity, the number of threads was set here explicitly to 32; more future proof would be to retrieve the warp size from the corresponding CUDA attribute by doing: `attribute(device(),CUDA.DEVICE_ATTRIBUTE_WARP_SIZE)`."
   ]
  },
  {
   "cell_type": "markdown",
   "metadata": {
    "name": "A slide ",
    "slideshow": {
     "slide_type": "slide"
    }
   },
   "source": [
    "`T_tot` is now probably in the order of magnitude of `T_peak`, yet depending on the used GPU it can be still significantly below (measured 302 GB/s with the Tesla P100 GPU)."
   ]
  },
  {
   "cell_type": "markdown",
   "metadata": {
    "name": "A slide ",
    "slideshow": {
     "slide_type": "fragment"
    }
   },
   "source": [
    "If `T_tot` is significantly below `T_peak`, then we need to set the numbers of threads per block closer to the maximum the GPU allows."
   ]
  },
  {
   "cell_type": "markdown",
   "metadata": {
    "name": "A slide ",
    "slideshow": {
     "slide_type": "slide"
    }
   },
   "source": [
    "Let us determine how `T_tot` behaves with an increasing number of threads per blocks:"
   ]
  },
  {
   "cell_type": "code",
   "execution_count": 15,
   "metadata": {},
   "outputs": [
    {
     "name": "stdout",
     "output_type": "stream",
     "text": [
      "(threads=(32, 1)) T_tot = 302.6477828044861\n",
      "(threads=(64, 1)) T_tot = 543.0763055204917\n",
      "(threads=(128, 1)) T_tot = 541.4016315536569\n",
      "(threads=(256, 1)) T_tot = 541.5087312171003\n",
      "(threads=(512, 1)) T_tot = 541.2748595762271\n",
      "(threads=(1024, 1)) T_tot = 537.1287337922203\n"
     ]
    }
   ],
   "source": [
    "max_threads  = attribute(device(),CUDA.DEVICE_ATTRIBUTE_MAX_THREADS_PER_BLOCK)\n",
    "thread_count = []\n",
    "throughputs  = []\n",
    "for pow = Int(log2(32)):Int(log2(max_threads))\n",
    "    threads = (2^pow, 1)\n",
    "    blocks  = (nx÷threads[1], ny)\n",
    "    t_it = @belapsed begin @cuda blocks=$blocks threads=$threads memcopy_KP!($A, $B); synchronize() end\n",
    "    T_tot = 2*1/1e9*nx*ny*sizeof(Float64)/t_it\n",
    "    push!(thread_count, prod(threads))\n",
    "    push!(throughputs, T_tot)\n",
    "    println(\"(threads=$threads) T_tot = $(T_tot)\")\n",
    "end"
   ]
  },
  {
   "cell_type": "markdown",
   "metadata": {
    "name": "A slide ",
    "slideshow": {
     "slide_type": "slide"
    }
   },
   "source": [
    "You should observe now that beyond a certain minimum number of threads per block (64 with the Tesla P100 GPU), `T_tot` is relatively close to `T_peak` (which exact thread/block configuration leads to the best `T_tot` depends on the used GPU architecture)."
   ]
  },
  {
   "cell_type": "markdown",
   "metadata": {
    "name": "A slide ",
    "slideshow": {
     "slide_type": "fragment"
    }
   },
   "source": [
    "Instead of increasing the number of threads only in the x dimension, we can also do so in the y dimension."
   ]
  },
  {
   "cell_type": "markdown",
   "metadata": {
    "name": "A slide ",
    "slideshow": {
     "slide_type": "slide"
    }
   },
   "source": [
    "We keep though 32 threads in the x dimension in order to let the warps access contiguous memory:"
   ]
  },
  {
   "cell_type": "code",
   "execution_count": 16,
   "metadata": {},
   "outputs": [
    {
     "name": "stdout",
     "output_type": "stream",
     "text": [
      "(threads=(32, 1)) T_tot = 302.4710485465856\n",
      "(threads=(32, 2)) T_tot = 545.4584738476387\n",
      "(threads=(32, 4)) T_tot = 547.1304282248584\n",
      "(threads=(32, 8)) T_tot = 549.2503278262949\n",
      "(threads=(32, 16)) T_tot = 543.1479369200002\n",
      "(threads=(32, 32)) T_tot = 537.0128176370607\n"
     ]
    }
   ],
   "source": [
    "thread_count = []\n",
    "throughputs  = []\n",
    "for pow = 0:Int(log2(max_threads/32))\n",
    "    threads = (32, 2^pow)\n",
    "    blocks  = (nx÷threads[1], ny÷threads[2])\n",
    "    t_it = @belapsed begin @cuda blocks=$blocks threads=$threads memcopy_KP!($A, $B); synchronize() end\n",
    "    T_tot = 2*1/1e9*nx*ny*sizeof(Float64)/t_it\n",
    "    push!(thread_count, prod(threads))\n",
    "    push!(throughputs, T_tot)\n",
    "    println(\"(threads=$threads) T_tot = $(T_tot)\")\n",
    "end"
   ]
  },
  {
   "cell_type": "markdown",
   "metadata": {
    "name": "A slide ",
    "slideshow": {
     "slide_type": "slide"
    }
   },
   "source": [
    "`T_tot` should be similar in general. Important is thata thread block accesses now not a 1D-line of the arrays, but a 2D block.\n",
    "\n",
    "We will see later that this is of great benefit when, e.g., computing finite difference derivatives in x and y direction."
   ]
  },
  {
   "cell_type": "markdown",
   "metadata": {
    "name": "A slide ",
    "slideshow": {
     "slide_type": "slide"
    }
   },
   "source": [
    "So far, we experimented with memory copy in the strict sense: copy an array from one place to the other. When doing computations, we often read more data than we write.\n",
    "\n",
    "We will therefore also do a few experiments on another commonly benchmarked case: read two arrays and write only one."
   ]
  },
  {
   "cell_type": "markdown",
   "metadata": {
    "name": "A slide ",
    "slideshow": {
     "slide_type": "slide"
    }
   },
   "source": [
    "We modify therefore the previous kernel to take a third array `C` as input and add it to `B` (the rest is identical):"
   ]
  },
  {
   "cell_type": "code",
   "execution_count": 17,
   "metadata": {},
   "outputs": [
    {
     "data": {
      "text/plain": [
       "memcopy2_KP! (generic function with 1 method)"
      ]
     },
     "execution_count": 17,
     "metadata": {},
     "output_type": "execute_result"
    }
   ],
   "source": [
    "function memcopy2_KP!(A, B, C)\n",
    "    ix = (blockIdx().x-1) * blockDim().x + threadIdx().x\n",
    "    iy = (blockIdx().y-1) * blockDim().y + threadIdx().y\n",
    "    @inbounds A[ix,iy] = B[ix,iy] + C[ix,iy]\n",
    "    return nothing\n",
    "end"
   ]
  },
  {
   "cell_type": "markdown",
   "metadata": {
    "name": "A slide ",
    "slideshow": {
     "slide_type": "slide"
    }
   },
   "source": [
    "Then, we test exactly as for the previous kernel how `T_tot` behaves with an increasing number of threads per blocks in y dimension, keeping it fixed to 32 in x dimension:"
   ]
  },
  {
   "cell_type": "code",
   "execution_count": 18,
   "metadata": {},
   "outputs": [
    {
     "name": "stdout",
     "output_type": "stream",
     "text": [
      "(threads=(32, 1)) T_tot = 439.8536407186659\n",
      "(threads=(32, 2)) T_tot = 559.9679569857892\n",
      "(threads=(32, 4)) T_tot = 561.0692684802863\n",
      "(threads=(32, 8)) T_tot = 561.2650827472639\n",
      "(threads=(32, 16)) T_tot = 561.6510988960694\n",
      "(threads=(32, 32)) T_tot = 555.2937540548388\n"
     ]
    }
   ],
   "source": [
    "C = CUDA.rand(Float64, nx, ny);\n",
    "thread_count = []\n",
    "throughputs  = []\n",
    "for pow = 0:Int(log2(max_threads/32))\n",
    "    threads = (32, 2^pow)\n",
    "    blocks  = (nx÷threads[1], ny÷threads[2])\n",
    "    t_it = @belapsed begin @cuda blocks=$blocks threads=$threads memcopy2_KP!($A, $B, $C); synchronize() end\n",
    "    T_tot = 3*1/1e9*nx*ny*sizeof(Float64)/t_it\n",
    "    push!(thread_count, prod(threads))\n",
    "    push!(throughputs, T_tot)\n",
    "    println(\"(threads=$threads) T_tot = $(T_tot)\")\n",
    "end"
   ]
  },
  {
   "cell_type": "markdown",
   "metadata": {
    "name": "A slide ",
    "slideshow": {
     "slide_type": "slide"
    }
   },
   "source": [
    "> 💡 note: There is now a factor `3` instead of `2` in the computation of `T_tot`: `2` arrays are read and `1` written (`3` operations)."
   ]
  },
  {
   "cell_type": "markdown",
   "metadata": {
    "name": "A slide ",
    "slideshow": {
     "slide_type": "slide"
    }
   },
   "source": [
    "Compare now the best measured `T_tot` to the `T_peak` obtained from the publication and if it is higher, then it means we need to correct `T_peak` to take the value of the `T_tot` measured (`T_tot` measured with the Tesla P100 GPU is 561 GB/s, i.e., 2 GB/s higher than the `T_peak` obtained from the publication mentioned earlier)."
   ]
  },
  {
   "cell_type": "markdown",
   "metadata": {
    "name": "A slide ",
    "slideshow": {
     "slide_type": "slide"
    }
   },
   "source": [
    "Note that the `T_peak` reported in the publication was obtained with a slightly different kernel which multiplies C with a scalar in addition; it is usually referred to as *triad*.\n",
    "\n",
    "For completeness, we will also quickly benchmark a *triad* kernel."
   ]
  },
  {
   "cell_type": "markdown",
   "metadata": {
    "name": "A slide ",
    "slideshow": {
     "slide_type": "slide"
    }
   },
   "source": [
    "To this purpose, we will directly use the best thread/block configuration that we have found in the previous experiment:"
   ]
  },
  {
   "cell_type": "code",
   "execution_count": 19,
   "metadata": {},
   "outputs": [
    {
     "data": {
      "text/plain": [
       "561.6879226804641"
      ]
     },
     "execution_count": 19,
     "metadata": {},
     "output_type": "execute_result"
    }
   ],
   "source": [
    "function memcopy_triad_KP!(A, B, C, s)\n",
    "    ix = (blockIdx().x-1) * blockDim().x + threadIdx().x\n",
    "    iy = (blockIdx().y-1) * blockDim().y + threadIdx().y\n",
    "    @inbounds A[ix,iy] = B[ix,iy] + s*C[ix,iy]\n",
    "    return nothing\n",
    "end\n",
    "\n",
    "s = rand()\n",
    "\n",
    "T_tot_max, index = findmax(throughputs)\n",
    "threads = (32, thread_count[index]÷32)\n",
    "blocks  = (nx÷threads[1], ny÷threads[2])\n",
    "t_it = @belapsed begin @cuda blocks=$blocks threads=$threads memcopy_triad_KP!($A, $B, $C, $s); synchronize() end\n",
    "T_tot = 3*1/1e9*nx*ny*sizeof(Float64)/t_it"
   ]
  },
  {
   "cell_type": "markdown",
   "metadata": {
    "name": "A slide ",
    "slideshow": {
     "slide_type": "slide"
    }
   },
   "source": [
    "There should be no significant difference between `T_tot` of this triad kernel and of the previous kernel (with the Tesla P100 GPU, it is 561 GB/s with both kernels)."
   ]
  },
  {
   "cell_type": "markdown",
   "metadata": {
    "name": "A slide ",
    "slideshow": {
     "slide_type": "slide"
    }
   },
   "source": [
    "Finally, let us also check the triad performance we obtain with GPU array programming:"
   ]
  },
  {
   "cell_type": "code",
   "execution_count": 20,
   "metadata": {},
   "outputs": [
    {
     "data": {
      "text/plain": [
       "520.9905554630511"
      ]
     },
     "execution_count": 20,
     "metadata": {},
     "output_type": "execute_result"
    }
   ],
   "source": [
    "memcopy_triad_AP!(A, B, C, s) = (A .= B.+ s.*C)\n",
    "\n",
    "t_it = @belapsed begin memcopy_triad_AP!($A, $B, $C, $s); synchronize() end\n",
    "T_tot = 3*1/1e9*nx*ny*sizeof(Float64)/t_it"
   ]
  },
  {
   "cell_type": "markdown",
   "metadata": {},
   "source": [
    "> 💡 Note that in this memory copy function we use everywhere dots to fuse vectorized operations and avoid any allocations of temporary arrays (see [here](https://docs.julialang.org/en/v1/manual/performance-tips/#More-dots:-Fuse-vectorized-operations) for more information)."
   ]
  },
  {
   "cell_type": "markdown",
   "metadata": {
    "name": "A slide ",
    "slideshow": {
     "slide_type": "slide"
    }
   },
   "source": [
    "`T_tot` is probably a bit lower than in the above experiment, but still rather close to `T_peak`."
   ]
  },
  {
   "cell_type": "markdown",
   "metadata": {
    "name": "A slide ",
    "slideshow": {
     "slide_type": "slide"
    }
   },
   "source": [
    "Congratulations! You have successfully made it through the memory copy kernel optimization experiments and learned about the fundamental parameters determining memory throughput."
   ]
  },
  {
   "cell_type": "markdown",
   "metadata": {
    "name": "A slide ",
    "slideshow": {
     "slide_type": "fragment"
    }
   },
   "source": [
    "One moment! For the following exercises you will need the parameters we have established here for best memory access:"
   ]
  },
  {
   "cell_type": "code",
   "execution_count": 21,
   "metadata": {},
   "outputs": [
    {
     "name": "stdout",
     "output_type": "stream",
     "text": [
      "nx=ny=16384; threads=(32, 16); blocks=(512, 1024)\n"
     ]
    }
   ],
   "source": [
    "println(\"nx=ny=$nx; threads=$threads; blocks=$blocks\")"
   ]
  }
 ],
 "metadata": {
  "kernelspec": {
   "display_name": "Julia 1.6.1",
   "language": "julia",
   "name": "julia-1.6"
  },
  "language_info": {
   "file_extension": ".jl",
   "mimetype": "application/julia",
   "name": "julia",
   "version": "1.6.1"
  }
 },
 "nbformat": 4,
 "nbformat_minor": 4
}
